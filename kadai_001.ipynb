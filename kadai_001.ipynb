{
  "nbformat": 4,
  "nbformat_minor": 0,
  "metadata": {
    "colab": {
      "provenance": []
    },
    "kernelspec": {
      "name": "python3",
      "display_name": "Python 3"
    },
    "language_info": {
      "name": "python"
    }
  },
  "cells": [
    {
      "cell_type": "code",
      "source": [
        "import requests\n",
        "from bs4 import BeautifulSoup\n",
        "\n",
        "url = 'https://news.yahoo.co.jp/articles/d40c16aa08e978978266367e2e27021d9093864b'\n",
        "\n",
        "response = requests.get(url)\n",
        "soup = BeautifulSoup(response.text,'html.parser')\n",
        "body_element = soup.select_one('#uamods > .article_body > div >p')\n",
        "\n",
        "\n",
        "body_text = body_element.text\n",
        "print(body_text)\n",
        "\n",
        "\n",
        "\n",
        "\n"
      ],
      "metadata": {
        "colab": {
          "base_uri": "https://localhost:8080/"
        },
        "id": "ftJuo425uY1V",
        "outputId": "e2f0b5f0-9805-4829-bbad-cae30a906c52"
      },
      "execution_count": 11,
      "outputs": [
        {
          "output_type": "stream",
          "name": "stdout",
          "text": [
            "明日17日は低気圧が日本の東で急発達するでしょう。冬型の気圧配置となり、寒気が流れ込む予想です。北海道や東北は大雪や猛吹雪による交通障害に警戒。北陸や関東以西も北風が冷たいでしょう。九州は暴風に警戒が必要です。\n"
          ]
        }
      ]
    }
  ]
}